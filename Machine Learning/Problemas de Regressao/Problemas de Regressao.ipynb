{
 "cells": [
  {
   "cell_type": "markdown",
   "id": "aea71cfb-2731-437e-8e84-0a69f3fedef0",
   "metadata": {},
   "source": [
    "## Machine Learning - Prof. Tatiana Escovedo\n",
    "## Aula 02: Problemas de Regressão\n",
    "\n",
    "### Prática 2"
   ]
  },
  {
   "cell_type": "code",
   "execution_count": 1,
   "id": "74c518ea-dd69-41ab-bf2c-5dfe12042f11",
   "metadata": {},
   "outputs": [],
   "source": [
    "# Configuração para não exibir os warnings\n",
    "import warnings\n",
    "warnings.filterwarnings(\"ignore\")\n",
    "\n",
    "# Imports necessários\n",
    "import pandas as pd\n",
    "import numpy as np\n",
    "import matplotlib.pyplot as plt\n",
    "from sklearn.datasets import load_diabetes # para importar o dataset diabetes\n",
    "from sklearn.model_selection import train_test_split # para particionar em bases de treino e teste (holdout)\n",
    "from sklearn.model_selection import KFold # para preparar os folds da validação cruzada\n",
    "from sklearn.model_selection import cross_val_score # para executar a validação cruzada\n",
    "from sklearn.metrics import mean_squared_error # métrica de avaliação MSE\n",
    "from sklearn.linear_model import LinearRegression # algoritmo Regressão Linear\n",
    "from sklearn.linear_model import Ridge # algoritmo Regularização Ridge\n",
    "from sklearn.linear_model import Lasso # algoritmo Regularização Lasso\n",
    "from sklearn.neighbors import KNeighborsRegressor # algoritmo KNN\n",
    "from sklearn.tree import DecisionTreeRegressor # algoritmo Árvore de Regressão\n",
    "from sklearn.svm import SVR # algoritmo SVM"
   ]
  },
  {
   "cell_type": "code",
   "execution_count": 2,
   "id": "bd8e526c-0542-4658-b06e-3b880c1793a7",
   "metadata": {},
   "outputs": [
    {
     "data": {
      "text/html": [
       "<div>\n",
       "<style scoped>\n",
       "    .dataframe tbody tr th:only-of-type {\n",
       "        vertical-align: middle;\n",
       "    }\n",
       "\n",
       "    .dataframe tbody tr th {\n",
       "        vertical-align: top;\n",
       "    }\n",
       "\n",
       "    .dataframe thead th {\n",
       "        text-align: right;\n",
       "    }\n",
       "</style>\n",
       "<table border=\"1\" class=\"dataframe\">\n",
       "  <thead>\n",
       "    <tr style=\"text-align: right;\">\n",
       "      <th></th>\n",
       "      <th>age</th>\n",
       "      <th>sex</th>\n",
       "      <th>bmi</th>\n",
       "      <th>bp</th>\n",
       "      <th>s1</th>\n",
       "      <th>s2</th>\n",
       "      <th>s3</th>\n",
       "      <th>s4</th>\n",
       "      <th>s5</th>\n",
       "      <th>s6</th>\n",
       "      <th>target</th>\n",
       "    </tr>\n",
       "  </thead>\n",
       "  <tbody>\n",
       "    <tr>\n",
       "      <th>0</th>\n",
       "      <td>0.038076</td>\n",
       "      <td>0.050680</td>\n",
       "      <td>0.061696</td>\n",
       "      <td>0.021872</td>\n",
       "      <td>-0.044223</td>\n",
       "      <td>-0.034821</td>\n",
       "      <td>-0.043401</td>\n",
       "      <td>-0.002592</td>\n",
       "      <td>0.019907</td>\n",
       "      <td>-0.017646</td>\n",
       "      <td>151.0</td>\n",
       "    </tr>\n",
       "    <tr>\n",
       "      <th>1</th>\n",
       "      <td>-0.001882</td>\n",
       "      <td>-0.044642</td>\n",
       "      <td>-0.051474</td>\n",
       "      <td>-0.026328</td>\n",
       "      <td>-0.008449</td>\n",
       "      <td>-0.019163</td>\n",
       "      <td>0.074412</td>\n",
       "      <td>-0.039493</td>\n",
       "      <td>-0.068332</td>\n",
       "      <td>-0.092204</td>\n",
       "      <td>75.0</td>\n",
       "    </tr>\n",
       "    <tr>\n",
       "      <th>2</th>\n",
       "      <td>0.085299</td>\n",
       "      <td>0.050680</td>\n",
       "      <td>0.044451</td>\n",
       "      <td>-0.005670</td>\n",
       "      <td>-0.045599</td>\n",
       "      <td>-0.034194</td>\n",
       "      <td>-0.032356</td>\n",
       "      <td>-0.002592</td>\n",
       "      <td>0.002861</td>\n",
       "      <td>-0.025930</td>\n",
       "      <td>141.0</td>\n",
       "    </tr>\n",
       "    <tr>\n",
       "      <th>3</th>\n",
       "      <td>-0.089063</td>\n",
       "      <td>-0.044642</td>\n",
       "      <td>-0.011595</td>\n",
       "      <td>-0.036656</td>\n",
       "      <td>0.012191</td>\n",
       "      <td>0.024991</td>\n",
       "      <td>-0.036038</td>\n",
       "      <td>0.034309</td>\n",
       "      <td>0.022688</td>\n",
       "      <td>-0.009362</td>\n",
       "      <td>206.0</td>\n",
       "    </tr>\n",
       "    <tr>\n",
       "      <th>4</th>\n",
       "      <td>0.005383</td>\n",
       "      <td>-0.044642</td>\n",
       "      <td>-0.036385</td>\n",
       "      <td>0.021872</td>\n",
       "      <td>0.003935</td>\n",
       "      <td>0.015596</td>\n",
       "      <td>0.008142</td>\n",
       "      <td>-0.002592</td>\n",
       "      <td>-0.031988</td>\n",
       "      <td>-0.046641</td>\n",
       "      <td>135.0</td>\n",
       "    </tr>\n",
       "  </tbody>\n",
       "</table>\n",
       "</div>"
      ],
      "text/plain": [
       "        age       sex       bmi        bp        s1        s2        s3  \\\n",
       "0  0.038076  0.050680  0.061696  0.021872 -0.044223 -0.034821 -0.043401   \n",
       "1 -0.001882 -0.044642 -0.051474 -0.026328 -0.008449 -0.019163  0.074412   \n",
       "2  0.085299  0.050680  0.044451 -0.005670 -0.045599 -0.034194 -0.032356   \n",
       "3 -0.089063 -0.044642 -0.011595 -0.036656  0.012191  0.024991 -0.036038   \n",
       "4  0.005383 -0.044642 -0.036385  0.021872  0.003935  0.015596  0.008142   \n",
       "\n",
       "         s4        s5        s6  target  \n",
       "0 -0.002592  0.019907 -0.017646   151.0  \n",
       "1 -0.039493 -0.068332 -0.092204    75.0  \n",
       "2 -0.002592  0.002861 -0.025930   141.0  \n",
       "3  0.034309  0.022688 -0.009362   206.0  \n",
       "4 -0.002592 -0.031988 -0.046641   135.0  "
      ]
     },
     "execution_count": 2,
     "metadata": {},
     "output_type": "execute_result"
    }
   ],
   "source": [
    "# Carga do dataset\n",
    "\n",
    "diabetes = load_diabetes()\n",
    "dataset = pd.DataFrame(diabetes.data, columns=diabetes.feature_names) # conversão para dataframe\n",
    "dataset['target'] = diabetes.target # adição da coluna target\n",
    "\n",
    "dataset.head()"
   ]
  },
  {
   "cell_type": "code",
   "execution_count": 3,
   "id": "158a6494-4a31-41b1-a130-16b279767fbc",
   "metadata": {},
   "outputs": [],
   "source": [
    "# Preparação dos dados\n",
    "\n",
    "# Separação em bases de treino e teste (holdout)\n",
    "array = dataset.values\n",
    "X = array[:,0:10] # atributos\n",
    "y = array[:,10] # classe (target)\n",
    "\n",
    "X_train, X_test, y_train, y_test = train_test_split(X, y, test_size=0.20, random_state=7) # faz a divisão\n",
    "\n",
    "# Criando os folds para a validação cruzada\n",
    "num_particoes = 10 # número de folds da validação cruzada\n",
    "kfold = KFold(n_splits=num_particoes, shuffle=True, random_state=7) # faz o particionamento em 10 folds"
   ]
  },
  {
   "cell_type": "code",
   "execution_count": 4,
   "id": "2dc397e6-abd6-4d7a-a2a1-9b669d13cffc",
   "metadata": {},
   "outputs": [
    {
     "name": "stdout",
     "output_type": "stream",
     "text": [
      "LR: MSE 3066.49 (612.06) - RMSE 55.38\n",
      "Ridge: MSE 3566.43 (805.54) - RMSE 59.72\n",
      "Lasso: MSE 3948.91 (890.99) - RMSE 62.84\n",
      "KNN: MSE 3522.14 (721.76) - RMSE 59.35\n",
      "CART: MSE 6431.26 (1584.05) - RMSE 80.20\n",
      "SVM: MSE 5285.09 (1186.18) - RMSE 72.70\n"
     ]
    },
    {
     "data": {
      "image/png": "[encoded data removed]",
      "text/plain": [
       "<Figure size 640x480 with 1 Axes>"
      ]
     },
     "metadata": {},
     "output_type": "display_data"
    }
   ],
   "source": [
    "# Modelagem\n",
    "\n",
    "# Definindo uma seed global para esta célula de código\n",
    "np.random.seed(7) \n",
    "\n",
    "# Listas para armazenar os modelos, os resultados e os nomes dos modelos\n",
    "models = []\n",
    "results = []\n",
    "names = []\n",
    "\n",
    "# Preparando os modelos e adicionando-os em uma lista\n",
    "models.append(('LR', LinearRegression()))\n",
    "models.append(('Ridge', Ridge()))\n",
    "models.append(('Lasso', Lasso()))\n",
    "models.append(('KNN', KNeighborsRegressor()))\n",
    "models.append(('CART', DecisionTreeRegressor()))\n",
    "models.append(('SVM', SVR()))\n",
    "\n",
    "# Avaliando um modelo por vez\n",
    "for name, model in models:\n",
    "  cv_results = cross_val_score(model, X_train, y_train, cv=kfold, scoring='neg_mean_squared_error')\n",
    "  results.append(cv_results)\n",
    "  names.append(name)\n",
    "  # imprime MSE, desvio padrão do MSE e RMSE dos 10 resultados da validação cruzada\n",
    "  msg = \"%s: MSE %0.2f (%0.2f) - RMSE %0.2f\" % (name, abs(cv_results.mean()), cv_results.std(), np.sqrt(abs(cv_results.mean())))\n",
    "  print(msg)\n",
    "\n",
    "# Boxplot de comparação dos modelos\n",
    "fig = plt.figure() \n",
    "fig.suptitle('Comparação do MSE dos Modelos') \n",
    "ax = fig.add_subplot(111) \n",
    "plt.boxplot(results) \n",
    "ax.set_xticklabels(names) \n",
    "plt.show()"
   ]
  },
  {
   "cell_type": "code",
   "execution_count": 5,
   "id": "48e92441-9a63-4a13-b777-d4dc183c46e7",
   "metadata": {},
   "outputs": [
    {
     "name": "stdout",
     "output_type": "stream",
     "text": [
      "MSE 2966.05\n",
      "RMSE 54.46\n"
     ]
    }
   ],
   "source": [
    "# Criando um modelo com todo o conjunto de treino\n",
    "model = LinearRegression()\n",
    "model.fit(X_train, y_train)\n",
    "\n",
    "# Fazendo as predições com o conjunto de teste\n",
    "predictions = model.predict(X_test) \n",
    "\n",
    "# Estimando o MSE e o RMSE no conjunto de teste\n",
    "mse = mean_squared_error(y_test, predictions)\n",
    "print(\"MSE %0.2f\" % mse)\n",
    "print(\"RMSE %0.2f\" % np.sqrt(abs(mse)))"
   ]
  }
 ],
 "metadata": {
  "kernelspec": {
   "display_name": "Python 3 (ipykernel)",
   "language": "python",
   "name": "python3"
  },
  "language_info": {
   "codemirror_mode": {
    "name": "ipython",
    "version": 3
   },
   "file_extension": ".py",
   "mimetype": "text/x-python",
   "name": "python",
   "nbconvert_exporter": "python",
   "pygments_lexer": "ipython3",
   "version": "3.10.9"
  }
 },
 "nbformat": 4,
 "nbformat_minor": 5
}
