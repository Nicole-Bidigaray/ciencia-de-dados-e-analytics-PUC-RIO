{
 "cells": [
  {
   "cell_type": "code",
   "execution_count": 1,
   "metadata": {
    "collapsed": true
   },
   "outputs": [],
   "source": [
    "# Imports necessários\n",
    "import pandas as pd\n",
    "from sklearn.datasets import load_iris # para importar o dataset iris\n",
    "from sklearn.model_selection import train_test_split # para particionar em bases de treino e teste\n",
    "from sklearn.metrics import confusion_matrix # para a exibição da matriz de confusão do modelo\n",
    "from sklearn.metrics import accuracy_score # para a exibição da acurácia do modelo\n",
    "from sklearn.svm import SVC # para utilizar o algoritmo SVM\n",
    "\n",
    "# Versão estruturada\n",
    "\n",
    "# Carga do dataset\n",
    "iris = load_iris()\n",
    "# conversão para dataframe\n",
    "dataset = pd.DataFrame(iris.data, columns=iris.feature_names)\n",
    "dataset['target'] = iris.target  # adição da coluna target"
   ]
  },
  {
   "cell_type": "code",
   "execution_count": 2,
   "outputs": [],
   "source": [
    "array = dataset.values\n",
    "X = array[:, 0:4]\n",
    "Y = array[:, 4]\n",
    "X_train, X_test, Y_train, Y_test = train_test_split(X, Y, test_size=0.20,\n",
    "                                                    random_state=7)"
   ],
   "metadata": {
    "collapsed": false
   }
  },
  {
   "cell_type": "code",
   "execution_count": 3,
   "outputs": [],
   "source": [
    "# Criação do modelo e predições\n",
    "model = SVC()  # cria o modelo\n",
    "model.fit(X_train, Y_train)  # treina o modelo com o dataset de treino\n",
    "predictions = model.predict(X_test)  # faz as predições com o dataset de teste"
   ],
   "metadata": {
    "collapsed": false
   }
  },
  {
   "cell_type": "code",
   "execution_count": 4,
   "outputs": [
    {
     "name": "stdout",
     "output_type": "stream",
     "text": [
      "0.8666666666666667\n"
     ]
    }
   ],
   "source": [
    "# Avaliação das predições\n",
    "print(accuracy_score(Y_test, predictions))  # acurácia"
   ],
   "metadata": {
    "collapsed": false
   }
  }
 ],
 "metadata": {
  "kernelspec": {
   "display_name": "Python 3",
   "language": "python",
   "name": "python3"
  },
  "language_info": {
   "codemirror_mode": {
    "name": "ipython",
    "version": 2
   },
   "file_extension": ".py",
   "mimetype": "text/x-python",
   "name": "python",
   "nbconvert_exporter": "python",
   "pygments_lexer": "ipython2",
   "version": "2.7.6"
  }
 },
 "nbformat": 4,
 "nbformat_minor": 0
}
