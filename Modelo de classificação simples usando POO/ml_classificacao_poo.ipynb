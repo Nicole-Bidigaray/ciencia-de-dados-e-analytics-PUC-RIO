{
 "cells": [
  {
   "cell_type": "code",
   "execution_count": 1,
   "metadata": {
    "collapsed": true
   },
   "outputs": [],
   "source": [
    "# Imports necessários\n",
    "import pandas as pd\n",
    "from sklearn.datasets import load_iris # para importar o dataset iris\n",
    "from sklearn.model_selection import train_test_split # para particionar em bases de treino e teste\n",
    "from sklearn.metrics import confusion_matrix # para a exibição da matriz de confusão do modelo\n",
    "from sklearn.metrics import accuracy_score # para a exibição da acurácia do modelo\n",
    "from sklearn.svm import SVC # para utilizar o algoritmo SVM\n",
    "\n",
    "# Em programas mais robustos, teríamos um arquivo .py para cada classe e\n",
    "# importaríamos as classes para executar o programa:\n",
    "# from <nome-do-arquivo> import <nome-da-classe>\n",
    "\n",
    "class Carregador:\n",
    "\n",
    "    def carregar_dados(self, url: str, atributos: list):\n",
    "        \"\"\" Carrega e retorna um DataFrame. Há diversos parâmetros\n",
    "        no read_csv que poderiam ser utilizados para dar opções\n",
    "        adicionais.\n",
    "        \"\"\"\n",
    "        return pd.read_csv(url, names=atributos)"
   ]
  },
  {
   "cell_type": "code",
   "execution_count": 3,
   "outputs": [],
   "source": [
    "class PreProcessador:\n",
    "\n",
    "    def pre_processar(self, dataset, percentual_teste, seed=7):\n",
    "        \"\"\" Cuida de todo o pré-processamento. \"\"\"\n",
    "        # limpeza dos dados e eliminação de outliers\n",
    "\n",
    "        # feature selection\n",
    "\n",
    "        # divisão em treino e teste\n",
    "        X_train, X_test, Y_train, Y_test = self.__preparar_holdout(dataset,\n",
    "                                                                   percentual_teste,\n",
    "                                                                   seed)\n",
    "        # normalização/padronização\n",
    "\n",
    "        return (X_train, X_test, Y_train, Y_test)\n",
    "\n",
    "    def __preparar_holdout(self, dataset, percentual_teste, seed):\n",
    "        \"\"\" Divide os dados em treino e teste usando o método holdout.\n",
    "        Assume que a variável target está na última coluna.\n",
    "        O parâmetro test_size é o percentual de dados de teste.\n",
    "        \"\"\"\n",
    "        dados = dataset.values\n",
    "        X = dados[:, 0:-1]\n",
    "        Y = dados[:, -1]\n",
    "        return train_test_split(X, Y, test_size=percentual_teste, random_state=seed)"
   ],
   "metadata": {
    "collapsed": false
   }
  },
  {
   "cell_type": "code",
   "execution_count": 4,
   "outputs": [],
   "source": [
    "class Modelo:\n",
    "\n",
    "    def treinar_SVM(self, X_train, Y_train):\n",
    "        \"\"\" Cria e treina um modelo SVM. Poderia ter um Grid Search\n",
    "        com cross_validation para escolher os melhores hiperparâmetros, etc.\n",
    "        \"\"\"\n",
    "        modelo = SVC()\n",
    "        modelo.fit(X_train, Y_train)\n",
    "        return modelo"
   ],
   "metadata": {
    "collapsed": false
   }
  },
  {
   "cell_type": "code",
   "execution_count": 5,
   "outputs": [],
   "source": [
    "class Avaliador:\n",
    "\n",
    "    def avaliar_acuracia(self, modelo, X_test, Y_test):\n",
    "        \"\"\" Faz uma predição e avalia o modelo. Poderia parametrizar o tipo de\n",
    "        avaliação, entre outros.\n",
    "        \"\"\"\n",
    "        predicoes = modelo.predict(X_test)\n",
    "        return accuracy_score(Y_test, predicoes)"
   ],
   "metadata": {
    "collapsed": false
   }
  },
  {
   "cell_type": "code",
   "execution_count": 6,
   "outputs": [],
   "source": [
    "# Este código começaria daqui, logo após os imports\n",
    "# from loader import Loader\n",
    "# from preprocessor import PreProcessor\n",
    "# from ml_model import MLModel\n",
    "# from ml_evaluator import MlEvaluator\n",
    "\n",
    "# Instanciação das Classes\n",
    "carregador = Carregador()\n",
    "pre_processador = PreProcessador()\n",
    "modelo = Modelo()\n",
    "avaliador = Avaliador()\n",
    "\n",
    "# Parâmetros\n",
    "url_dados = ('https://archive.ics.uci.edu/'\n",
    "             'ml/machine-learning-databases/iris/iris.data')\n",
    "atributos = ['comprimento_sepala', 'largura_sepala',\n",
    "             'comprimento_petala', 'largura_petala',\n",
    "             'especie']\n",
    "percentual_teste = 0.2"
   ],
   "metadata": {
    "collapsed": false
   }
  },
  {
   "cell_type": "code",
   "execution_count": 7,
   "outputs": [
    {
     "name": "stdout",
     "output_type": "stream",
     "text": [
      "0.8666666666666667\n"
     ]
    }
   ],
   "source": [
    "# Código\n",
    "\n",
    "# Carga\n",
    "dataset = carregador.carregar_dados(url_dados, atributos)\n",
    "# Pré-processamento\n",
    "X_train, X_test, Y_train, Y_test = pre_processador.pre_processar(dataset,\n",
    "                                                                 percentual_teste)\n",
    "# Treinamento do modelo\n",
    "model = modelo.treinar_SVM(X_train, Y_train)\n",
    "# Impressão do resultado da avaliação\n",
    "print(avaliador.avaliar_acuracia(model, X_test, Y_test))"
   ],
   "metadata": {
    "collapsed": false
   }
  }
 ],
 "metadata": {
  "kernelspec": {
   "display_name": "Python 3",
   "language": "python",
   "name": "python3"
  },
  "language_info": {
   "codemirror_mode": {
    "name": "ipython",
    "version": 2
   },
   "file_extension": ".py",
   "mimetype": "text/x-python",
   "name": "python",
   "nbconvert_exporter": "python",
   "pygments_lexer": "ipython2",
   "version": "2.7.6"
  }
 },
 "nbformat": 4,
 "nbformat_minor": 0
}
