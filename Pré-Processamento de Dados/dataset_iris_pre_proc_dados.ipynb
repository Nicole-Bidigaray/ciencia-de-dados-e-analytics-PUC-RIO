{
 "cells": [
  {
   "cell_type": "code",
   "execution_count": 1,
   "metadata": {
    "collapsed": true
   },
   "outputs": [
    {
     "data": {
      "text/plain": "     comprimento_sepala  largura_sepala  comprimento_petala  largura_petala  \\\n145                 6.7             3.0                 5.2             2.3   \n146                 6.3             2.5                 5.0             1.9   \n147                 6.5             3.0                 5.2             2.0   \n148                 6.2             3.4                 5.4             2.3   \n149                 5.9             3.0                 5.1             1.8   \n\n            especie  \n145  Iris-virginica  \n146  Iris-virginica  \n147  Iris-virginica  \n148  Iris-virginica  \n149  Iris-virginica  ",
      "text/html": "<div>\n<style scoped>\n    .dataframe tbody tr th:only-of-type {\n        vertical-align: middle;\n    }\n\n    .dataframe tbody tr th {\n        vertical-align: top;\n    }\n\n    .dataframe thead th {\n        text-align: right;\n    }\n</style>\n<table border=\"1\" class=\"dataframe\">\n  <thead>\n    <tr style=\"text-align: right;\">\n      <th></th>\n      <th>comprimento_sepala</th>\n      <th>largura_sepala</th>\n      <th>comprimento_petala</th>\n      <th>largura_petala</th>\n      <th>especie</th>\n    </tr>\n  </thead>\n  <tbody>\n    <tr>\n      <th>145</th>\n      <td>6.7</td>\n      <td>3.0</td>\n      <td>5.2</td>\n      <td>2.3</td>\n      <td>Iris-virginica</td>\n    </tr>\n    <tr>\n      <th>146</th>\n      <td>6.3</td>\n      <td>2.5</td>\n      <td>5.0</td>\n      <td>1.9</td>\n      <td>Iris-virginica</td>\n    </tr>\n    <tr>\n      <th>147</th>\n      <td>6.5</td>\n      <td>3.0</td>\n      <td>5.2</td>\n      <td>2.0</td>\n      <td>Iris-virginica</td>\n    </tr>\n    <tr>\n      <th>148</th>\n      <td>6.2</td>\n      <td>3.4</td>\n      <td>5.4</td>\n      <td>2.3</td>\n      <td>Iris-virginica</td>\n    </tr>\n    <tr>\n      <th>149</th>\n      <td>5.9</td>\n      <td>3.0</td>\n      <td>5.1</td>\n      <td>1.8</td>\n      <td>Iris-virginica</td>\n    </tr>\n  </tbody>\n</table>\n</div>"
     },
     "execution_count": 1,
     "metadata": {},
     "output_type": "execute_result"
    }
   ],
   "source": [
    "import pandas as pd\n",
    "import numpy as np\n",
    "from sklearn.preprocessing import MinMaxScaler # normalizacao\n",
    "from sklearn.preprocessing import StandardScaler # padronizacao\n",
    "from sklearn.preprocessing import OrdinalEncoder # ordinal encoding\n",
    "from sklearn.preprocessing import OneHotEncoder # one-hot encoding e dummy encoding\n",
    "\n",
    "# importando dados uma url para um dataframe\n",
    "\n",
    "# url a importar\n",
    "url_dados = 'https://archive.ics.uci.edu/ml/machine-learning-databases/iris/iris.data'\n",
    "\n",
    "# labels dos atributos do dataset\n",
    "labels_atributos = ['comprimento_sepala', 'largura_sepala', 'comprimento_petala', 'largura_petala', 'especie']\n",
    "\n",
    "# carga do dataset através da url - há diversos parâmetros no read_csv que podem ser interessantes, como sep, usecols e header\n",
    "iris = pd.read_csv(url_dados, names=labels_atributos)\n",
    "\n",
    "# exibindo as últimas linhas\n",
    "iris.tail()"
   ]
  },
  {
   "cell_type": "code",
   "execution_count": 4,
   "outputs": [
    {
     "name": "stderr",
     "output_type": "stream",
     "text": [
      "/var/folders/9m/24d71x0d7xnc4vv00vscg4br0000gn/T/ipykernel_36062/3185292324.py:3: FutureWarning: The frame.append method is deprecated and will be removed from pandas in a future version. Use pandas.concat instead.\n",
      "  df = iris.append({'largura_sepala': 4.0,\n"
     ]
    },
    {
     "data": {
      "text/plain": "     comprimento_sepala  largura_sepala  comprimento_petala  largura_petala  \\\n146                 6.3             2.5                 5.0             1.9   \n147                 6.5             3.0                 5.2             2.0   \n148                 6.2             3.4                 5.4             2.3   \n149                 5.9             3.0                 5.1             1.8   \n150                 NaN             4.0                 5.0             0.4   \n\n            especie  \n146  Iris-virginica  \n147  Iris-virginica  \n148  Iris-virginica  \n149  Iris-virginica  \n150     Iris-setosa  ",
      "text/html": "<div>\n<style scoped>\n    .dataframe tbody tr th:only-of-type {\n        vertical-align: middle;\n    }\n\n    .dataframe tbody tr th {\n        vertical-align: top;\n    }\n\n    .dataframe thead th {\n        text-align: right;\n    }\n</style>\n<table border=\"1\" class=\"dataframe\">\n  <thead>\n    <tr style=\"text-align: right;\">\n      <th></th>\n      <th>comprimento_sepala</th>\n      <th>largura_sepala</th>\n      <th>comprimento_petala</th>\n      <th>largura_petala</th>\n      <th>especie</th>\n    </tr>\n  </thead>\n  <tbody>\n    <tr>\n      <th>146</th>\n      <td>6.3</td>\n      <td>2.5</td>\n      <td>5.0</td>\n      <td>1.9</td>\n      <td>Iris-virginica</td>\n    </tr>\n    <tr>\n      <th>147</th>\n      <td>6.5</td>\n      <td>3.0</td>\n      <td>5.2</td>\n      <td>2.0</td>\n      <td>Iris-virginica</td>\n    </tr>\n    <tr>\n      <th>148</th>\n      <td>6.2</td>\n      <td>3.4</td>\n      <td>5.4</td>\n      <td>2.3</td>\n      <td>Iris-virginica</td>\n    </tr>\n    <tr>\n      <th>149</th>\n      <td>5.9</td>\n      <td>3.0</td>\n      <td>5.1</td>\n      <td>1.8</td>\n      <td>Iris-virginica</td>\n    </tr>\n    <tr>\n      <th>150</th>\n      <td>NaN</td>\n      <td>4.0</td>\n      <td>5.0</td>\n      <td>0.4</td>\n      <td>Iris-setosa</td>\n    </tr>\n  </tbody>\n</table>\n</div>"
     },
     "execution_count": 4,
     "metadata": {},
     "output_type": "execute_result"
    }
   ],
   "source": [
    "# criando um novo dataframe com iris + uma nova linha com um valor missing\n",
    "# para o proximo exemplo\n",
    "df = iris.append({'largura_sepala': 4.0,\n",
    "                  'comprimento_petala': 5.0,\n",
    "                  'largura_petala': 0.4,\n",
    "                  'especie': 'Iris-setosa'}, ignore_index=True)\n",
    "df.tail()"
   ],
   "metadata": {
    "collapsed": false
   }
  },
  {
   "cell_type": "code",
   "execution_count": 5,
   "outputs": [
    {
     "data": {
      "text/plain": "     comprimento_sepala  largura_sepala  comprimento_petala  largura_petala  \\\n145                 6.7             3.0                 5.2             2.3   \n146                 6.3             2.5                 5.0             1.9   \n147                 6.5             3.0                 5.2             2.0   \n148                 6.2             3.4                 5.4             2.3   \n149                 5.9             3.0                 5.1             1.8   \n\n            especie  \n145  Iris-virginica  \n146  Iris-virginica  \n147  Iris-virginica  \n148  Iris-virginica  \n149  Iris-virginica  ",
      "text/html": "<div>\n<style scoped>\n    .dataframe tbody tr th:only-of-type {\n        vertical-align: middle;\n    }\n\n    .dataframe tbody tr th {\n        vertical-align: top;\n    }\n\n    .dataframe thead th {\n        text-align: right;\n    }\n</style>\n<table border=\"1\" class=\"dataframe\">\n  <thead>\n    <tr style=\"text-align: right;\">\n      <th></th>\n      <th>comprimento_sepala</th>\n      <th>largura_sepala</th>\n      <th>comprimento_petala</th>\n      <th>largura_petala</th>\n      <th>especie</th>\n    </tr>\n  </thead>\n  <tbody>\n    <tr>\n      <th>145</th>\n      <td>6.7</td>\n      <td>3.0</td>\n      <td>5.2</td>\n      <td>2.3</td>\n      <td>Iris-virginica</td>\n    </tr>\n    <tr>\n      <th>146</th>\n      <td>6.3</td>\n      <td>2.5</td>\n      <td>5.0</td>\n      <td>1.9</td>\n      <td>Iris-virginica</td>\n    </tr>\n    <tr>\n      <th>147</th>\n      <td>6.5</td>\n      <td>3.0</td>\n      <td>5.2</td>\n      <td>2.0</td>\n      <td>Iris-virginica</td>\n    </tr>\n    <tr>\n      <th>148</th>\n      <td>6.2</td>\n      <td>3.4</td>\n      <td>5.4</td>\n      <td>2.3</td>\n      <td>Iris-virginica</td>\n    </tr>\n    <tr>\n      <th>149</th>\n      <td>5.9</td>\n      <td>3.0</td>\n      <td>5.1</td>\n      <td>1.8</td>\n      <td>Iris-virginica</td>\n    </tr>\n  </tbody>\n</table>\n</div>"
     },
     "execution_count": 5,
     "metadata": {},
     "output_type": "execute_result"
    }
   ],
   "source": [
    "# eliminando linhas que tenham ALGUM valor missing\n",
    "\n",
    "df = df.dropna(how='any')\n",
    "df.tail()"
   ],
   "metadata": {
    "collapsed": false
   }
  },
  {
   "cell_type": "code",
   "execution_count": 6,
   "outputs": [
    {
     "name": "stderr",
     "output_type": "stream",
     "text": [
      "/var/folders/9m/24d71x0d7xnc4vv00vscg4br0000gn/T/ipykernel_36062/816215093.py:3: FutureWarning: The frame.append method is deprecated and will be removed from pandas in a future version. Use pandas.concat instead.\n",
      "  df = iris.append({'largura_sepala': 4.0,\n",
      "/var/folders/9m/24d71x0d7xnc4vv00vscg4br0000gn/T/ipykernel_36062/816215093.py:8: FutureWarning: The frame.append method is deprecated and will be removed from pandas in a future version. Use pandas.concat instead.\n",
      "  df = df.append({}, ignore_index=True)\n",
      "/var/folders/9m/24d71x0d7xnc4vv00vscg4br0000gn/T/ipykernel_36062/816215093.py:8: FutureWarning: The default dtype for empty Series will be 'object' instead of 'float64' in a future version. Specify a dtype explicitly to silence this warning.\n",
      "  df = df.append({}, ignore_index=True)\n"
     ]
    },
    {
     "data": {
      "text/plain": "     comprimento_sepala  largura_sepala  comprimento_petala  largura_petala  \\\n147                 6.5             3.0                 5.2             2.0   \n148                 6.2             3.4                 5.4             2.3   \n149                 5.9             3.0                 5.1             1.8   \n150                 NaN             4.0                 5.0             0.4   \n151                 NaN             NaN                 NaN             NaN   \n\n            especie  \n147  Iris-virginica  \n148  Iris-virginica  \n149  Iris-virginica  \n150     Iris-setosa  \n151             NaN  ",
      "text/html": "<div>\n<style scoped>\n    .dataframe tbody tr th:only-of-type {\n        vertical-align: middle;\n    }\n\n    .dataframe tbody tr th {\n        vertical-align: top;\n    }\n\n    .dataframe thead th {\n        text-align: right;\n    }\n</style>\n<table border=\"1\" class=\"dataframe\">\n  <thead>\n    <tr style=\"text-align: right;\">\n      <th></th>\n      <th>comprimento_sepala</th>\n      <th>largura_sepala</th>\n      <th>comprimento_petala</th>\n      <th>largura_petala</th>\n      <th>especie</th>\n    </tr>\n  </thead>\n  <tbody>\n    <tr>\n      <th>147</th>\n      <td>6.5</td>\n      <td>3.0</td>\n      <td>5.2</td>\n      <td>2.0</td>\n      <td>Iris-virginica</td>\n    </tr>\n    <tr>\n      <th>148</th>\n      <td>6.2</td>\n      <td>3.4</td>\n      <td>5.4</td>\n      <td>2.3</td>\n      <td>Iris-virginica</td>\n    </tr>\n    <tr>\n      <th>149</th>\n      <td>5.9</td>\n      <td>3.0</td>\n      <td>5.1</td>\n      <td>1.8</td>\n      <td>Iris-virginica</td>\n    </tr>\n    <tr>\n      <th>150</th>\n      <td>NaN</td>\n      <td>4.0</td>\n      <td>5.0</td>\n      <td>0.4</td>\n      <td>Iris-setosa</td>\n    </tr>\n    <tr>\n      <th>151</th>\n      <td>NaN</td>\n      <td>NaN</td>\n      <td>NaN</td>\n      <td>NaN</td>\n      <td>NaN</td>\n    </tr>\n  </tbody>\n</table>\n</div>"
     },
     "execution_count": 6,
     "metadata": {},
     "output_type": "execute_result"
    }
   ],
   "source": [
    "# criando (novamente) um novo dataframe com iris + uma nova linha com um\n",
    "# valor missing para o próximo exemplo\n",
    "df = iris.append({'largura_sepala': 4.0,\n",
    "                  'comprimento_petala': 5.0,\n",
    "                  'largura_petala': 0.4,\n",
    "                  'especie': 'Iris-setosa'}, ignore_index=True)\n",
    "# adicionando uma nova linha com todos os valores missing para o próximo exemplo\n",
    "df = df.append({}, ignore_index=True)\n",
    "df.tail()"
   ],
   "metadata": {
    "collapsed": false
   }
  },
  {
   "cell_type": "code",
   "execution_count": 7,
   "outputs": [
    {
     "data": {
      "text/plain": "     comprimento_sepala  largura_sepala  comprimento_petala  largura_petala  \\\n146                 6.3             2.5                 5.0             1.9   \n147                 6.5             3.0                 5.2             2.0   \n148                 6.2             3.4                 5.4             2.3   \n149                 5.9             3.0                 5.1             1.8   \n150                 NaN             4.0                 5.0             0.4   \n\n            especie  \n146  Iris-virginica  \n147  Iris-virginica  \n148  Iris-virginica  \n149  Iris-virginica  \n150     Iris-setosa  ",
      "text/html": "<div>\n<style scoped>\n    .dataframe tbody tr th:only-of-type {\n        vertical-align: middle;\n    }\n\n    .dataframe tbody tr th {\n        vertical-align: top;\n    }\n\n    .dataframe thead th {\n        text-align: right;\n    }\n</style>\n<table border=\"1\" class=\"dataframe\">\n  <thead>\n    <tr style=\"text-align: right;\">\n      <th></th>\n      <th>comprimento_sepala</th>\n      <th>largura_sepala</th>\n      <th>comprimento_petala</th>\n      <th>largura_petala</th>\n      <th>especie</th>\n    </tr>\n  </thead>\n  <tbody>\n    <tr>\n      <th>146</th>\n      <td>6.3</td>\n      <td>2.5</td>\n      <td>5.0</td>\n      <td>1.9</td>\n      <td>Iris-virginica</td>\n    </tr>\n    <tr>\n      <th>147</th>\n      <td>6.5</td>\n      <td>3.0</td>\n      <td>5.2</td>\n      <td>2.0</td>\n      <td>Iris-virginica</td>\n    </tr>\n    <tr>\n      <th>148</th>\n      <td>6.2</td>\n      <td>3.4</td>\n      <td>5.4</td>\n      <td>2.3</td>\n      <td>Iris-virginica</td>\n    </tr>\n    <tr>\n      <th>149</th>\n      <td>5.9</td>\n      <td>3.0</td>\n      <td>5.1</td>\n      <td>1.8</td>\n      <td>Iris-virginica</td>\n    </tr>\n    <tr>\n      <th>150</th>\n      <td>NaN</td>\n      <td>4.0</td>\n      <td>5.0</td>\n      <td>0.4</td>\n      <td>Iris-setosa</td>\n    </tr>\n  </tbody>\n</table>\n</div>"
     },
     "execution_count": 7,
     "metadata": {},
     "output_type": "execute_result"
    }
   ],
   "source": [
    "# eliminando linhas que tenham TODOS os valores missing\n",
    "df = df.dropna(how='all')\n",
    "df.tail()"
   ],
   "metadata": {
    "collapsed": false
   }
  },
  {
   "cell_type": "code",
   "execution_count": 8,
   "outputs": [
    {
     "data": {
      "text/plain": "     comprimento_sepala  largura_sepala  comprimento_petala  largura_petala  \\\n146                 6.3             2.5                 5.0             1.9   \n147                 6.5             3.0                 5.2             2.0   \n148                 6.2             3.4                 5.4             2.3   \n149                 5.9             3.0                 5.1             1.8   \n150                 5.8             4.0                 5.0             0.4   \n\n            especie  \n146  Iris-virginica  \n147  Iris-virginica  \n148  Iris-virginica  \n149  Iris-virginica  \n150     Iris-setosa  ",
      "text/html": "<div>\n<style scoped>\n    .dataframe tbody tr th:only-of-type {\n        vertical-align: middle;\n    }\n\n    .dataframe tbody tr th {\n        vertical-align: top;\n    }\n\n    .dataframe thead th {\n        text-align: right;\n    }\n</style>\n<table border=\"1\" class=\"dataframe\">\n  <thead>\n    <tr style=\"text-align: right;\">\n      <th></th>\n      <th>comprimento_sepala</th>\n      <th>largura_sepala</th>\n      <th>comprimento_petala</th>\n      <th>largura_petala</th>\n      <th>especie</th>\n    </tr>\n  </thead>\n  <tbody>\n    <tr>\n      <th>146</th>\n      <td>6.3</td>\n      <td>2.5</td>\n      <td>5.0</td>\n      <td>1.9</td>\n      <td>Iris-virginica</td>\n    </tr>\n    <tr>\n      <th>147</th>\n      <td>6.5</td>\n      <td>3.0</td>\n      <td>5.2</td>\n      <td>2.0</td>\n      <td>Iris-virginica</td>\n    </tr>\n    <tr>\n      <th>148</th>\n      <td>6.2</td>\n      <td>3.4</td>\n      <td>5.4</td>\n      <td>2.3</td>\n      <td>Iris-virginica</td>\n    </tr>\n    <tr>\n      <th>149</th>\n      <td>5.9</td>\n      <td>3.0</td>\n      <td>5.1</td>\n      <td>1.8</td>\n      <td>Iris-virginica</td>\n    </tr>\n    <tr>\n      <th>150</th>\n      <td>5.8</td>\n      <td>4.0</td>\n      <td>5.0</td>\n      <td>0.4</td>\n      <td>Iris-setosa</td>\n    </tr>\n  </tbody>\n</table>\n</div>"
     },
     "execution_count": 8,
     "metadata": {},
     "output_type": "execute_result"
    }
   ],
   "source": [
    "# definindo valores para o preenchimento de missings\n",
    "values = {'comprimento_sepala': iris['comprimento_sepala'].median(),\n",
    "          'largura_sepala': 5.0,\n",
    "          'comprimento_petala': 4.0,\n",
    "          'largura_petala': 0.1,\n",
    "          'especie': 'Iris-setosa'}\n",
    "\n",
    "# fazendo o preenchimento\n",
    "df = df.fillna(value=values)\n",
    "df.tail()"
   ],
   "metadata": {
    "collapsed": false
   }
  },
  {
   "cell_type": "code",
   "execution_count": 10,
   "outputs": [
    {
     "name": "stdout",
     "output_type": "stream",
     "text": [
      "[[1.0e+02 1.0e-03]\n",
      " [8.0e+00 5.0e-02]\n",
      " [5.0e+01 5.0e-03]\n",
      " [8.8e+01 7.0e-02]\n",
      " [4.0e+00 1.0e-01]]\n"
     ]
    }
   ],
   "source": [
    "# dados que iremos usar nos exemplos\n",
    "data = np.asarray([[100, 0.001],\n",
    "                  [8, 0.05],\n",
    "                  [50, 0.005],\n",
    "                  [88, 0.07],\n",
    "                  [4, 0.1]])\n",
    "print(data)"
   ],
   "metadata": {
    "collapsed": false
   }
  },
  {
   "cell_type": "code",
   "execution_count": 11,
   "outputs": [
    {
     "name": "stdout",
     "output_type": "stream",
     "text": [
      "[[1.         0.        ]\n",
      " [0.04166667 0.49494949]\n",
      " [0.47916667 0.04040404]\n",
      " [0.875      0.6969697 ]\n",
      " [0.         1.        ]]\n"
     ]
    }
   ],
   "source": [
    "# Normalizacao\n",
    "\n",
    "# definindo o transformador como min max scaler\n",
    "scaler = MinMaxScaler()\n",
    "\n",
    "# transformando os dados\n",
    "scaled = scaler.fit_transform(data)\n",
    "print(scaled)"
   ],
   "metadata": {
    "collapsed": false
   }
  },
  {
   "cell_type": "code",
   "execution_count": 18,
   "outputs": [
    {
     "name": "stdout",
     "output_type": "stream",
     "text": [
      "[[ 1.26398112 -1.16389967]\n",
      " [-1.06174414  0.12639634]\n",
      " [ 0.         -1.05856939]\n",
      " [ 0.96062565  0.65304778]\n",
      " [-1.16286263  1.44302493]]\n"
     ]
    }
   ],
   "source": [
    "# Padronizacao\n",
    "\n",
    "# definindo o transformador como standard scaler\n",
    "scaler = StandardScaler()\n",
    "\n",
    "# transformando os dados\n",
    "scaled = scaler.fit_transform(data)\n",
    "print(scaled)"
   ],
   "metadata": {
    "collapsed": false
   }
  },
  {
   "cell_type": "code",
   "execution_count": 19,
   "outputs": [
    {
     "name": "stdout",
     "output_type": "stream",
     "text": [
      "[['castanhos']\n",
      " ['verdes']\n",
      " ['azuis']\n",
      " ['azuis']\n",
      " ['castanhos']\n",
      " ['azuis']]\n"
     ]
    }
   ],
   "source": [
    "# dados que iremos usar nos exemplos\n",
    "data = np.asarray([['castanhos'], ['verdes'], ['azuis'], ['azuis'], ['castanhos'], ['azuis']])\n",
    "print(data)"
   ],
   "metadata": {
    "collapsed": false
   }
  },
  {
   "cell_type": "code",
   "execution_count": 20,
   "outputs": [
    {
     "name": "stdout",
     "output_type": "stream",
     "text": [
      "[[0. 1. 0.]\n",
      " [0. 0. 1.]\n",
      " [1. 0. 0.]\n",
      " [1. 0. 0.]\n",
      " [0. 1. 0.]\n",
      " [1. 0. 0.]]\n"
     ]
    }
   ],
   "source": [
    "# definindo o transformador como one hot encoding\n",
    "encoder = OneHotEncoder(sparse=False)\n",
    "\n",
    "# transformando os dados\n",
    "onehot = encoder.fit_transform(data)\n",
    "print(onehot)"
   ],
   "metadata": {
    "collapsed": false
   }
  },
  {
   "cell_type": "code",
   "execution_count": 21,
   "outputs": [
    {
     "name": "stdout",
     "output_type": "stream",
     "text": [
      "[[1. 0.]\n",
      " [0. 1.]\n",
      " [0. 0.]\n",
      " [0. 0.]\n",
      " [1. 0.]\n",
      " [0. 0.]]\n"
     ]
    }
   ],
   "source": [
    "# definindo o transformador como one hot encoding (com Dummy variable encoder)\n",
    "encoder = OneHotEncoder(drop='first', sparse=False)\n",
    "\n",
    "# transformando os dados\n",
    "dummmy = encoder.fit_transform(data)\n",
    "print(dummmy)"
   ],
   "metadata": {
    "collapsed": false
   }
  }
 ],
 "metadata": {
  "kernelspec": {
   "display_name": "Python 3",
   "language": "python",
   "name": "python3"
  },
  "language_info": {
   "codemirror_mode": {
    "name": "ipython",
    "version": 2
   },
   "file_extension": ".py",
   "mimetype": "text/x-python",
   "name": "python",
   "nbconvert_exporter": "python",
   "pygments_lexer": "ipython2",
   "version": "2.7.6"
  }
 },
 "nbformat": 4,
 "nbformat_minor": 0
}
