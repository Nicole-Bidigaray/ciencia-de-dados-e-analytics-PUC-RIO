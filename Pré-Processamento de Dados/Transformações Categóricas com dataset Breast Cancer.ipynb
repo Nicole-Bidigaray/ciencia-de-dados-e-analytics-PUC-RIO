{
 "cells": [
  {
   "cell_type": "code",
   "execution_count": 2,
   "metadata": {
    "collapsed": true
   },
   "outputs": [
    {
     "data": {
      "text/plain": "       Age  Menopause TumorSize EnvNodes NodeCaps DegMalig   Breast  \\\n0  '40-49'  'premeno'   '15-19'    '0-2'    'yes'      '3'  'right'   \n1  '50-59'     'ge40'   '15-19'    '0-2'     'no'      '1'  'right'   \n2  '50-59'     'ge40'   '35-39'    '0-2'     'no'      '2'   'left'   \n3  '40-49'  'premeno'   '35-39'    '0-2'    'yes'      '3'  'right'   \n4  '40-49'  'premeno'   '30-34'    '3-5'    'yes'      '2'   'left'   \n\n   BreastQuad Irradiat                   Class  \n0   'left_up'     'no'     'recurrence-events'  \n1   'central'     'no'  'no-recurrence-events'  \n2  'left_low'     'no'     'recurrence-events'  \n3  'left_low'    'yes'  'no-recurrence-events'  \n4  'right_up'     'no'     'recurrence-events'  ",
      "text/html": "<div>\n<style scoped>\n    .dataframe tbody tr th:only-of-type {\n        vertical-align: middle;\n    }\n\n    .dataframe tbody tr th {\n        vertical-align: top;\n    }\n\n    .dataframe thead th {\n        text-align: right;\n    }\n</style>\n<table border=\"1\" class=\"dataframe\">\n  <thead>\n    <tr style=\"text-align: right;\">\n      <th></th>\n      <th>Age</th>\n      <th>Menopause</th>\n      <th>TumorSize</th>\n      <th>EnvNodes</th>\n      <th>NodeCaps</th>\n      <th>DegMalig</th>\n      <th>Breast</th>\n      <th>BreastQuad</th>\n      <th>Irradiat</th>\n      <th>Class</th>\n    </tr>\n  </thead>\n  <tbody>\n    <tr>\n      <th>0</th>\n      <td>'40-49'</td>\n      <td>'premeno'</td>\n      <td>'15-19'</td>\n      <td>'0-2'</td>\n      <td>'yes'</td>\n      <td>'3'</td>\n      <td>'right'</td>\n      <td>'left_up'</td>\n      <td>'no'</td>\n      <td>'recurrence-events'</td>\n    </tr>\n    <tr>\n      <th>1</th>\n      <td>'50-59'</td>\n      <td>'ge40'</td>\n      <td>'15-19'</td>\n      <td>'0-2'</td>\n      <td>'no'</td>\n      <td>'1'</td>\n      <td>'right'</td>\n      <td>'central'</td>\n      <td>'no'</td>\n      <td>'no-recurrence-events'</td>\n    </tr>\n    <tr>\n      <th>2</th>\n      <td>'50-59'</td>\n      <td>'ge40'</td>\n      <td>'35-39'</td>\n      <td>'0-2'</td>\n      <td>'no'</td>\n      <td>'2'</td>\n      <td>'left'</td>\n      <td>'left_low'</td>\n      <td>'no'</td>\n      <td>'recurrence-events'</td>\n    </tr>\n    <tr>\n      <th>3</th>\n      <td>'40-49'</td>\n      <td>'premeno'</td>\n      <td>'35-39'</td>\n      <td>'0-2'</td>\n      <td>'yes'</td>\n      <td>'3'</td>\n      <td>'right'</td>\n      <td>'left_low'</td>\n      <td>'yes'</td>\n      <td>'no-recurrence-events'</td>\n    </tr>\n    <tr>\n      <th>4</th>\n      <td>'40-49'</td>\n      <td>'premeno'</td>\n      <td>'30-34'</td>\n      <td>'3-5'</td>\n      <td>'yes'</td>\n      <td>'2'</td>\n      <td>'left'</td>\n      <td>'right_up'</td>\n      <td>'no'</td>\n      <td>'recurrence-events'</td>\n    </tr>\n  </tbody>\n</table>\n</div>"
     },
     "execution_count": 2,
     "metadata": {},
     "output_type": "execute_result"
    }
   ],
   "source": [
    "# Configuração para não exibir os warnings\n",
    "import warnings\n",
    "warnings.filterwarnings(\"ignore\")\n",
    "\n",
    "# Importação de pacotes\n",
    "import pandas as pd\n",
    "import numpy as np\n",
    "import missingno as ms # para tratamento de missings\n",
    "## Transformações Numéricas\n",
    "from sklearn.preprocessing import MinMaxScaler # para normalização\n",
    "from sklearn.preprocessing import StandardScaler # para padronização\n",
    "## Transformações Categóricas\n",
    "from sklearn.preprocessing import OneHotEncoder\n",
    "from sklearn.preprocessing import OrdinalEncoder\n",
    "\n",
    "# Informa a URL de importação do dataset\n",
    "url = \"https://raw.githubusercontent.com/tatianaesc/datascience/main/breast-cancer.csv\"\n",
    "\n",
    "# Lê o arquivo\n",
    "dataset = pd.read_csv(url, delimiter=',')\n",
    "\n",
    "# Exibindo as primeiras linhas\n",
    "dataset.head()"
   ]
  },
  {
   "cell_type": "code",
   "execution_count": 3,
   "outputs": [
    {
     "data": {
      "text/plain": "Age           0\nMenopause     0\nTumorSize     0\nEnvNodes      0\nNodeCaps      8\nDegMalig      0\nBreast        0\nBreastQuad    1\nIrradiat      0\nClass         0\ndtype: int64"
     },
     "execution_count": 3,
     "metadata": {},
     "output_type": "execute_result"
    }
   ],
   "source": [
    "# verificando nulls no dataset\n",
    "dataset.isnull().sum()"
   ],
   "metadata": {
    "collapsed": false
   }
  },
  {
   "cell_type": "code",
   "execution_count": 4,
   "outputs": [
    {
     "name": "stdout",
     "output_type": "stream",
     "text": [
      "(286, 10)\n",
      "(277, 10)\n"
     ]
    }
   ],
   "source": [
    "# exibindo as dimensões do dataset\n",
    "print(dataset.shape)\n",
    "\n",
    "# eliminando linhas que tenham ALGUM valor missing\n",
    "dataset.dropna(how='any', inplace=True) # CUIDADO! Não fizemos uma cópia do dataset original!\n",
    "\n",
    "# exibindo as dimensões do dataset\n",
    "print(dataset.shape)"
   ],
   "metadata": {
    "collapsed": false
   }
  },
  {
   "cell_type": "code",
   "execution_count": 8,
   "outputs": [],
   "source": [
    "# separando o array em componentes de input e output\n",
    "X = dataset.values[:,0:9]\n",
    "y = dataset.values[:,9]"
   ],
   "metadata": {
    "collapsed": false
   }
  },
  {
   "cell_type": "code",
   "execution_count": 9,
   "outputs": [
    {
     "name": "stdout",
     "output_type": "stream",
     "text": [
      "Atributos transformados:\n",
      "[[2. 2. 2. 0. 1. 2. 1. 2. 0.]\n",
      " [3. 0. 2. 0. 0. 0. 1. 0. 0.]\n",
      " [3. 0. 6. 0. 0. 1. 0. 1. 0.]\n",
      " [2. 2. 6. 0. 1. 2. 1. 1. 1.]\n",
      " [2. 2. 5. 4. 1. 1. 0. 4. 0.]]\n"
     ]
    }
   ],
   "source": [
    "# ordinal encoding para os atributos X\n",
    "encoded_X = OrdinalEncoder().fit_transform(X)\n",
    "\n",
    "# exibindo os dados transformados\n",
    "print(\"Atributos transformados:\")\n",
    "print(encoded_X[:5, :]) # 5 primeiras linhas, todas as colunas"
   ],
   "metadata": {
    "collapsed": false
   }
  },
  {
   "cell_type": "code",
   "execution_count": 10,
   "outputs": [
    {
     "name": "stdout",
     "output_type": "stream",
     "text": [
      "Atributos transformados:\n",
      "[[0. 0. 1. 0. 0. 0. 0. 0. 1. 0. 0. 1. 0. 0. 0. 0. 0. 0. 0. 0. 1. 0. 0. 0.\n",
      "  0. 0. 0. 0. 1. 0. 0. 1. 0. 1. 0. 0. 1. 0. 0. 1. 0.]\n",
      " [0. 0. 0. 1. 0. 0. 1. 0. 0. 0. 0. 1. 0. 0. 0. 0. 0. 0. 0. 0. 1. 0. 0. 0.\n",
      "  0. 0. 0. 1. 0. 1. 0. 0. 0. 1. 1. 0. 0. 0. 0. 1. 0.]\n",
      " [0. 0. 0. 1. 0. 0. 1. 0. 0. 0. 0. 0. 0. 0. 0. 1. 0. 0. 0. 0. 1. 0. 0. 0.\n",
      "  0. 0. 0. 1. 0. 0. 1. 0. 1. 0. 0. 1. 0. 0. 0. 1. 0.]\n",
      " [0. 0. 1. 0. 0. 0. 0. 0. 1. 0. 0. 0. 0. 0. 0. 1. 0. 0. 0. 0. 1. 0. 0. 0.\n",
      "  0. 0. 0. 0. 1. 0. 0. 1. 0. 1. 0. 1. 0. 0. 0. 0. 1.]\n",
      " [0. 0. 1. 0. 0. 0. 0. 0. 1. 0. 0. 0. 0. 0. 1. 0. 0. 0. 0. 0. 0. 0. 0. 0.\n",
      "  1. 0. 0. 0. 1. 0. 1. 0. 1. 0. 0. 0. 0. 0. 1. 1. 0.]]\n"
     ]
    }
   ],
   "source": [
    "# one hot encode para os atributos X\n",
    "encoded_X = OneHotEncoder(sparse=False).fit_transform(X)\n",
    "\n",
    "# exibindo os dados transformados\n",
    "print(\"Atributos transformados:\")\n",
    "print(encoded_X[:5, :]) # 5 primeiras linhas, todas as colunas"
   ],
   "metadata": {
    "collapsed": false
   }
  }
 ],
 "metadata": {
  "kernelspec": {
   "display_name": "Python 3",
   "language": "python",
   "name": "python3"
  },
  "language_info": {
   "codemirror_mode": {
    "name": "ipython",
    "version": 2
   },
   "file_extension": ".py",
   "mimetype": "text/x-python",
   "name": "python",
   "nbconvert_exporter": "python",
   "pygments_lexer": "ipython2",
   "version": "2.7.6"
  }
 },
 "nbformat": 4,
 "nbformat_minor": 0
}
